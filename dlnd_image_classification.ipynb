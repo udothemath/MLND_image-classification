{
 "cells": [
  {
   "cell_type": "markdown",
   "metadata": {
    "collapsed": true,
    "deletable": true,
    "editable": true
   },
   "source": [
    "# Image Classification\n",
    "In this project, you'll classify images from the [CIFAR-10 dataset](https://www.cs.toronto.edu/~kriz/cifar.html).  The dataset consists of airplanes, dogs, cats, and other objects. You'll preprocess the images, then train a convolutional neural network on all the samples. The images need to be normalized and the labels need to be one-hot encoded.  You'll get to apply what you learned and build a convolutional, max pooling, dropout, and fully connected layers.  At the end, you'll get to see your neural network's predictions on the sample images.\n",
    "## Get the Data\n",
    "Run the following cell to download the [CIFAR-10 dataset for python](https://www.cs.toronto.edu/~kriz/cifar-10-python.tar.gz)."
   ]
  },
  {
   "cell_type": "code",
   "execution_count": 1,
   "metadata": {
    "collapsed": false,
    "deletable": true,
    "editable": true
   },
   "outputs": [
    {
     "name": "stdout",
     "output_type": "stream",
     "text": [
      "All files found!\n"
     ]
    }
   ],
   "source": [
    "\"\"\"\n",
    "DON'T MODIFY ANYTHING IN THIS CELL THAT IS BELOW THIS LINE\n",
    "\"\"\"\n",
    "from urllib.request import urlretrieve\n",
    "from os.path import isfile, isdir\n",
    "from tqdm import tqdm\n",
    "import problem_unittests as tests\n",
    "import tarfile\n",
    "\n",
    "cifar10_dataset_folder_path = 'cifar-10-batches-py'\n",
    "\n",
    "# Use Floyd's cifar-10 dataset if present\n",
    "floyd_cifar10_location = '/input/cifar-10/python.tar.gz'\n",
    "if isfile(floyd_cifar10_location):\n",
    "    tar_gz_path = floyd_cifar10_location\n",
    "else:\n",
    "    tar_gz_path = 'cifar-10-python.tar.gz'\n",
    "\n",
    "class DLProgress(tqdm):\n",
    "    last_block = 0\n",
    "\n",
    "    def hook(self, block_num=1, block_size=1, total_size=None):\n",
    "        self.total = total_size\n",
    "        self.update((block_num - self.last_block) * block_size)\n",
    "        self.last_block = block_num\n",
    "\n",
    "if not isfile(tar_gz_path):\n",
    "    with DLProgress(unit='B', unit_scale=True, miniters=1, desc='CIFAR-10 Dataset') as pbar:\n",
    "        urlretrieve(\n",
    "            'https://www.cs.toronto.edu/~kriz/cifar-10-python.tar.gz',\n",
    "            tar_gz_path,\n",
    "            pbar.hook)\n",
    "\n",
    "if not isdir(cifar10_dataset_folder_path):\n",
    "    with tarfile.open(tar_gz_path) as tar:\n",
    "        tar.extractall()\n",
    "        tar.close()\n",
    "\n",
    "\n",
    "tests.test_folder_path(cifar10_dataset_folder_path)"
   ]
  },
  {
   "cell_type": "markdown",
   "metadata": {
    "deletable": true,
    "editable": true
   },
   "source": [
    "## Explore the Data\n",
    "The dataset is broken into batches to prevent your machine from running out of memory.  The CIFAR-10 dataset consists of 5 batches, named `data_batch_1`, `data_batch_2`, etc.. Each batch contains the labels and images that are one of the following:\n",
    "* airplane\n",
    "* automobile\n",
    "* bird\n",
    "* cat\n",
    "* deer\n",
    "* dog\n",
    "* frog\n",
    "* horse\n",
    "* ship\n",
    "* truck\n",
    "\n",
    "Understanding a dataset is part of making predictions on the data.  Play around with the code cell below by changing the `batch_id` and `sample_id`. The `batch_id` is the id for a batch (1-5). The `sample_id` is the id for a image and label pair in the batch.\n",
    "\n",
    "Ask yourself \"What are all possible labels?\", \"What is the range of values for the image data?\", \"Are the labels in order or random?\".  Answers to questions like these will help you preprocess the data and end up with better predictions."
   ]
  },
  {
   "cell_type": "code",
   "execution_count": 2,
   "metadata": {
    "collapsed": false,
    "deletable": true,
    "editable": true
   },
   "outputs": [
    {
     "name": "stdout",
     "output_type": "stream",
     "text": [
      "\n",
      "Stats of batch 1:\n",
      "Samples: 10000\n",
      "Label Counts: {0: 1005, 1: 974, 2: 1032, 3: 1016, 4: 999, 5: 937, 6: 1030, 7: 1001, 8: 1025, 9: 981}\n",
      "First 20 Labels: [6, 9, 9, 4, 1, 1, 2, 7, 8, 3, 4, 7, 7, 2, 9, 9, 9, 3, 2, 6]\n",
      "\n",
      "Example of Image 5:\n",
      "Image - Min Value: 0 Max Value: 252\n",
      "Image - Shape: (32, 32, 3)\n",
      "Label - Label Id: 1 Name: automobile\n"
     ]
    },
    {
     "data": {
      "image/png": "[encoded data removed]",
      "text/plain": [
       "<matplotlib.figure.Figure at 0x11ec49400>"
      ]
     },
     "metadata": {
      "image/png": {
       "height": 250,
       "width": 253
      }
     },
     "output_type": "display_data"
    }
   ],
   "source": [
    "%matplotlib inline\n",
    "%config InlineBackend.figure_format = 'retina'\n",
    "\n",
    "import helper\n",
    "import numpy as np\n",
    "\n",
    "# Explore the dataset\n",
    "batch_id = 1\n",
    "sample_id = 5\n",
    "helper.display_stats(cifar10_dataset_folder_path, batch_id, sample_id)"
   ]
  },
  {
   "cell_type": "markdown",
   "metadata": {
    "deletable": true,
    "editable": true
   },
   "source": [
    "## Implement Preprocess Functions\n",
    "### Normalize\n",
    "In the cell below, implement the `normalize` function to take in image data, `x`, and return it as a normalized Numpy array. The values should be in the range of 0 to 1, inclusive.  The return object should be the same shape as `x`."
   ]
  },
  {
   "cell_type": "code",
   "execution_count": 3,
   "metadata": {
    "collapsed": false,
    "deletable": true,
    "editable": true
   },
   "outputs": [
    {
     "name": "stderr",
     "output_type": "stream",
     "text": [
      "/Users/udothemath1984/anaconda/lib/python3.6/site-packages/sklearn/utils/validation.py:429: DataConversionWarning: Data with input dtype int64 was converted to float64 by MinMaxScaler.\n",
      "  warnings.warn(msg, _DataConversionWarning)\n"
     ]
    },
    {
     "name": "stdout",
     "output_type": "stream",
     "text": [
      "Tests Passed\n"
     ]
    }
   ],
   "source": [
    "from sklearn import preprocessing\n",
    "def normalize(x):\n",
    "    \"\"\"\n",
    "    Normalize a list of sample image data in the range of 0 to 1\n",
    "    : x: List of image data.  The image shape is (32, 32, 3)\n",
    "    : return: Numpy array of normalize data\n",
    "    \"\"\"\n",
    "    # TODO: Implement Function\n",
    "    #print (x.shape)\n",
    "    n_sample, nx, ny, nz = x.shape\n",
    "    whole_normalized_x = np.array(np.zeros(x.shape))\n",
    "    \n",
    "    for current_sample in range(n_sample):\n",
    "    #for current_sample in range(2):\n",
    "        curr_x = x[current_sample]\n",
    "        #print (curr_x.shape)\n",
    "        reshaped_curr_x = np.reshape(curr_x,(nx*ny,nz))\n",
    "        #print (reshaped_curr_x.shape)\n",
    "        curr_normalized_x = preprocessing.MinMaxScaler().fit_transform(reshaped_curr_x)\n",
    "        ori_shape_x = np.reshape(curr_normalized_x,(nx,ny,nz))\n",
    "        #print (ori_shape_x.shape)\n",
    "        whole_normalized_x[current_sample] = ori_shape_x    \n",
    "    return whole_normalized_x\n",
    "\n",
    "\"\"\"\n",
    "DON'T MODIFY ANYTHING IN THIS CELL THAT IS BELOW THIS LINE\n",
    "\"\"\"\n",
    "tests.test_normalize(normalize)"
   ]
  },
  {
   "cell_type": "markdown",
   "metadata": {
    "deletable": true,
    "editable": true
   },
   "source": [
    "### One-hot encode\n",
    "Just like the previous code cell, you'll be implementing a function for preprocessing.  This time, you'll implement the `one_hot_encode` function. The input, `x`, are a list of labels.  Implement the function to return the list of labels as One-Hot encoded Numpy array.  The possible values for labels are 0 to 9. The one-hot encoding function should return the same encoding for each value between each call to `one_hot_encode`.  Make sure to save the map of encodings outside the function.\n",
    "\n",
    "Hint: Don't reinvent the wheel."
   ]
  },
  {
   "cell_type": "code",
   "execution_count": 6,
   "metadata": {
    "collapsed": false,
    "deletable": true,
    "editable": true
   },
   "outputs": [
    {
     "name": "stdout",
     "output_type": "stream",
     "text": [
      "[8 4 6 2 1 7 5 8 1 1 4 8 4 3 9 0 5 1 7 9 5 0 0 1 9 1 9 2 8 3 1 3 5 8 3 5 8\n",
      " 0 8 4 9 7 6 4 3 0 8 3 7 9 3 5 6 8 4 2 3 1 8 3 6 5 3 1 0 3 7 2 0 8 4 9 5 5\n",
      " 3 7 9 8 1 8 1 9 2 2 0 2 7 0 8 6 7 5 2 5 4 9 5 6 3 8 8 9 7 4 5 6 6 8 1 6 3\n",
      " 0 5 7 8 5 7 0 3 6 9 9 2 8 4 7 7 5 1 6 0 0 8 0 3 5 6 3 9 9 1 0 1 8 6 7 1 9\n",
      " 6 0 5 1 6 1 9 9 3 0 8 9 5 8 4 5 2 2 3 8 8 9 8 2 5 2 0 4 6 7 1 5 6 3 2 0 6\n",
      " 9 5 2 2 5 7 7 1 3 2 7 3 2 5 6 2 1 7 1 1 8 6 7 4 1 3 7 3 8 0 4 7 1 9 6 5 6\n",
      " 1 4 4 1 3 1 8 7 5 7 5 6 1 3 6 2 3 4 7 6 5 3 2 3 4 7 3 9 6 3 4 0 1 3 9 5 3\n",
      " 8 8 5 6 1 2 4 3 0 2 9 0 2 6 2 4 6 0 3 5 6 3 0 8 0 0 7 9 4 0 3 1 0 3 3 8 2\n",
      " 8 0 7 2 9 7 6 0 5 5 3 5 3 2 5 3 6 2 3 8 2 2 4 2 7 9 5 9 1 1 4 9 5 0 3 0 2\n",
      " 1 1 8 3 4 7 8 3 2 5 7 7 1 0 8 9 7 5 9 5 4 5 8 7 1 8 5 2 7 9 5 2 0 3 0 9 0\n",
      " 5 7 1 1 4 6 8 4 3 5 7 6 0 5 6 7 9 4 9 2 0]\n",
      "[8, 5, 5, 3, 0]\n",
      "Tests Passed\n"
     ]
    }
   ],
   "source": [
    "def one_hot_encode(x):\n",
    "    \"\"\"\n",
    "    One hot encode a list of sample labels. Return a one-hot encoded vector for each label.\n",
    "    : x: List of sample Labels\n",
    "    : return: Numpy array of one-hot encoded labels\n",
    "    \"\"\"\n",
    "    \n",
    "    # TODO: Implement Function\n",
    "    print (x)\n",
    "    enc = preprocessing.LabelBinarizer()   \n",
    "    enc.fit([0,1,2,3,4,5,6,7,8,9]) \n",
    "    return enc.transform(x)\n",
    "\n",
    "\n",
    "\"\"\"\n",
    "DON'T MODIFY ANYTHING IN THIS CELL THAT IS BELOW THIS LINE\n",
    "\"\"\"\n",
    "tests.test_one_hot_encode(one_hot_encode)"
   ]
  },
  {
   "cell_type": "markdown",
   "metadata": {
    "deletable": true,
    "editable": true
   },
   "source": [
    "### Randomize Data\n",
    "As you saw from exploring the data above, the order of the samples are randomized.  It doesn't hurt to randomize it again, but you don't need to for this dataset."
   ]
  },
  {
   "cell_type": "markdown",
   "metadata": {
    "deletable": true,
    "editable": true
   },
   "source": [
    "## Preprocess all the data and save it\n",
    "Running the code cell below will preprocess all the CIFAR-10 data and save it to file. The code below also uses 10% of the training data for validation."
   ]
  },
  {
   "cell_type": "code",
   "execution_count": 9,
   "metadata": {
    "collapsed": false,
    "deletable": true,
    "editable": true
   },
   "outputs": [
    {
     "data": {
      "text/plain": [
       "\"\\nDON'T MODIFY ANYTHING IN THIS CELL\\n\""
      ]
     },
     "execution_count": 9,
     "metadata": {},
     "output_type": "execute_result"
    }
   ],
   "source": [
    "\"\"\"\n",
    "DON'T MODIFY ANYTHING IN THIS CELL\n",
    "\"\"\"\n",
    "# Preprocess Training, Validation, and Testing Data\n",
    "helper.preprocess_and_save_data(cifar10_dataset_folder_path, normalize, one_hot_encode)"
   ]
  },
  {
   "cell_type": "markdown",
   "metadata": {
    "deletable": true,
    "editable": true
   },
   "source": [
    "# Check Point\n",
    "This is your first checkpoint.  If you ever decide to come back to this notebook or have to restart the notebook, you can start from here.  The preprocessed data has been saved to disk."
   ]
  },
  {
   "cell_type": "code",
   "execution_count": 10,
   "metadata": {
    "collapsed": true,
    "deletable": true,
    "editable": true
   },
   "outputs": [],
   "source": [
    "\"\"\"\n",
    "DON'T MODIFY ANYTHING IN THIS CELL\n",
    "\"\"\"\n",
    "import pickle\n",
    "import problem_unittests as tests\n",
    "import helper\n",
    "\n",
    "# Load the Preprocessed Validation data\n",
    "valid_features, valid_labels = pickle.load(open('preprocess_validation.p', mode='rb'))"
   ]
  },
  {
   "cell_type": "markdown",
   "metadata": {
    "deletable": true,
    "editable": true
   },
   "source": [
    "## Build the network\n",
    "For the neural network, you'll build each layer into a function.  Most of the code you've seen has been outside of functions. To test your code more thoroughly, we require that you put each layer in a function.  This allows us to give you better feedback and test for simple mistakes using our unittests before you submit your project.\n",
    "\n",
    ">**Note:** If you're finding it hard to dedicate enough time for this course each week, we've provided a small shortcut to this part of the project. In the next couple of problems, you'll have the option to use classes from the [TensorFlow Layers](https://www.tensorflow.org/api_docs/python/tf/layers) or [TensorFlow Layers (contrib)](https://www.tensorflow.org/api_guides/python/contrib.layers) packages to build each layer, except the layers you build in the \"Convolutional and Max Pooling Layer\" section.  TF Layers is similar to Keras's and TFLearn's abstraction to layers, so it's easy to pickup.\n",
    "\n",
    ">However, if you would like to get the most out of this course, try to solve all the problems _without_ using anything from the TF Layers packages. You **can** still use classes from other packages that happen to have the same name as ones you find in TF Layers! For example, instead of using the TF Layers version of the `conv2d` class, [tf.layers.conv2d](https://www.tensorflow.org/api_docs/python/tf/layers/conv2d), you would want to use the TF Neural Network version of `conv2d`, [tf.nn.conv2d](https://www.tensorflow.org/api_docs/python/tf/nn/conv2d). \n",
    "\n",
    "Let's begin!\n",
    "\n",
    "### Input\n",
    "The neural network needs to read the image data, one-hot encoded labels, and dropout keep probability. Implement the following functions\n",
    "* Implement `neural_net_image_input`\n",
    " * Return a [TF Placeholder](https://www.tensorflow.org/api_docs/python/tf/placeholder)\n",
    " * Set the shape using `image_shape` with batch size set to `None`.\n",
    " * Name the TensorFlow placeholder \"x\" using the TensorFlow `name` parameter in the [TF Placeholder](https://www.tensorflow.org/api_docs/python/tf/placeholder).\n",
    "* Implement `neural_net_label_input`\n",
    " * Return a [TF Placeholder](https://www.tensorflow.org/api_docs/python/tf/placeholder)\n",
    " * Set the shape using `n_classes` with batch size set to `None`.\n",
    " * Name the TensorFlow placeholder \"y\" using the TensorFlow `name` parameter in the [TF Placeholder](https://www.tensorflow.org/api_docs/python/tf/placeholder).\n",
    "* Implement `neural_net_keep_prob_input`\n",
    " * Return a [TF Placeholder](https://www.tensorflow.org/api_docs/python/tf/placeholder) for dropout keep probability.\n",
    " * Name the TensorFlow placeholder \"keep_prob\" using the TensorFlow `name` parameter in the [TF Placeholder](https://www.tensorflow.org/api_docs/python/tf/placeholder).\n",
    "\n",
    "These names will be used at the end of the project to load your saved model.\n",
    "\n",
    "Note: `None` for shapes in TensorFlow allow for a dynamic size."
   ]
  },
  {
   "cell_type": "code",
   "execution_count": 9,
   "metadata": {
    "collapsed": false,
    "deletable": true,
    "editable": true
   },
   "outputs": [
    {
     "name": "stdout",
     "output_type": "stream",
     "text": [
      "Image Input Tests Passed.\n",
      "Label Input Tests Passed.\n",
      "Keep Prob Tests Passed.\n"
     ]
    }
   ],
   "source": [
    "import tensorflow as tf\n",
    "\n",
    "def neural_net_image_input(image_shape):\n",
    "    \"\"\"\n",
    "    Return a Tensor for a bach of image input\n",
    "    : image_shape: Shape of the images\n",
    "    : return: Tensor for image input.\n",
    "    \"\"\"\n",
    "    # TODO: Implement Function\n",
    "    #print (image_shape)\n",
    "    nx, ny, nz = image_shape\n",
    "    x = tf.placeholder(tf.float32,shape=(None,nx,ny,nz),name='x')\n",
    "    return x\n",
    "\n",
    "def neural_net_label_input(n_classes):\n",
    "    \"\"\"\n",
    "    Return a Tensor for a batch of label input\n",
    "    : n_classes: Number of classes\n",
    "    : return: Tensor for label input.\n",
    "    \"\"\"\n",
    "    # TODO: Implement Function\n",
    "    y = tf.placeholder(tf.float32,shape=(None,n_classes),name='y')\n",
    "    return y\n",
    "\n",
    "\n",
    "def neural_net_keep_prob_input():\n",
    "    \"\"\"\n",
    "    Return a Tensor for keep probability\n",
    "    : return: Tensor for keep probability.\n",
    "    \"\"\"\n",
    "    # TODO: Implement Function\n",
    "    keep_prob = tf.placeholder(tf.float32,name='keep_prob')\n",
    "    return keep_prob\n",
    "\n",
    "\n",
    "\"\"\"\n",
    "DON'T MODIFY ANYTHING IN THIS CELL THAT IS BELOW THIS LINE\n",
    "\"\"\"\n",
    "tf.reset_default_graph()\n",
    "tests.test_nn_image_inputs(neural_net_image_input)\n",
    "tests.test_nn_label_inputs(neural_net_label_input)\n",
    "tests.test_nn_keep_prob_inputs(neural_net_keep_prob_input)"
   ]
  },
  {
   "cell_type": "markdown",
   "metadata": {
    "deletable": true,
    "editable": true
   },
   "source": [
    "### Convolution and Max Pooling Layer\n",
    "Convolution layers have a lot of success with images. For this code cell, you should implement the function `conv2d_maxpool` to apply convolution then max pooling:\n",
    "* Create the weight and bias using `conv_ksize`, `conv_num_outputs` and the shape of `x_tensor`.\n",
    "* Apply a convolution to `x_tensor` using weight and `conv_strides`.\n",
    " * We recommend you use same padding, but you're welcome to use any padding.\n",
    "* Add bias\n",
    "* Add a nonlinear activation to the convolution.\n",
    "* Apply Max Pooling using `pool_ksize` and `pool_strides`.\n",
    " * We recommend you use same padding, but you're welcome to use any padding.\n",
    "\n",
    "**Note:** You **can't** use [TensorFlow Layers](https://www.tensorflow.org/api_docs/python/tf/layers) or [TensorFlow Layers (contrib)](https://www.tensorflow.org/api_guides/python/contrib.layers) for **this** layer, but you can still use TensorFlow's [Neural Network](https://www.tensorflow.org/api_docs/python/tf/nn) package. You may still use the shortcut option for all the **other** layers."
   ]
  },
  {
   "cell_type": "code",
   "execution_count": 121,
   "metadata": {
    "collapsed": false,
    "deletable": true,
    "editable": true
   },
   "outputs": [
    {
     "name": "stdout",
     "output_type": "stream",
     "text": [
      "Tests Passed\n"
     ]
    }
   ],
   "source": [
    "import math\n",
    "def conv2d_maxpool(x_tensor, conv_num_outputs, conv_ksize, conv_strides, pool_ksize, pool_strides):\n",
    "    \"\"\"\n",
    "    Apply convolution then max pooling to x_tensor\n",
    "    :param x_tensor: TensorFlow Tensor\n",
    "    :param conv_num_outputs: Number of outputs for the convolutional layer\n",
    "    :param conv_ksize: kernal size 2-D Tuple for the convolutional layer\n",
    "    :param conv_strides: Stride 2-D Tuple for convolution\n",
    "    :param pool_ksize: kernal size 2-D Tuple for pool\n",
    "    :param pool_strides: Stride 2-D Tuple for pool\n",
    "    : return: A tensor that represents convolution and max pooling of x_tensor\n",
    "    \"\"\"\n",
    "    num_of_sample, image_height, image_weight, color_channels = x_tensor.get_shape() \n",
    "    conv_x_stride, conv_y_stride = conv_strides       \n",
    "    conv_kx, conv_ky = conv_ksize\n",
    "    \n",
    "    # Alternative of defining shape and stride\n",
    "#     get_depth = x_tensor.get_shape().as_list()\n",
    "#     print(get_depth)\n",
    "#     filter_shape = list(conv_ksize + (get_depth[3],) + (conv_num_outputs,))\n",
    "#     print(filter_shape) \n",
    "#     filter_weight = tf.Variable(tf.truncated_normal(filter_shape))         \n",
    "#     filter_bias = tf.Variable(tf.zeros(conv_num_outputs)) \n",
    "#     filter_stride = list((1,) + conv_strides + (1,))\n",
    "#     print(filter_stride)   \n",
    "#     model = tf.nn.conv2d(input = x_tensor,filter = filter_weight, strides = filter_stride, padding= 'SAME')\n",
    "#     model = tf.nn.bias_add(model,filter_bias)\n",
    "#     print(model)\n",
    "#     return model\n",
    "    \n",
    "    \n",
    "    \n",
    "    # TODO: Implement Function\n",
    "#     print (x_tensor.shape)\n",
    "#     print (conv_num_outputs)    \n",
    "#     print (conv_ksize)\n",
    "#     print (conv_strides)\n",
    "#     print (pool_ksize)\n",
    "#     print (pool_strides)\n",
    "    \n",
    "    depth_of_input_layer = x_tensor.get_shape().as_list()[3]\n",
    " \n",
    "    nxnynz_pre_layer = conv_ksize[0]*conv_ksize[1]*depth_of_input_layer\n",
    "    #print (nxnynz_pre_layer)\n",
    "    standard_dev = math.sqrt(0.1/nxnynz_pre_layer)\n",
    "    #print (standard_dev)\n",
    "    \n",
    "    weight = tf.Variable(tf.truncated_normal([conv_kx, conv_ky, depth_of_input_layer, conv_num_outputs], stddev=standard_dev))\n",
    "    bias = tf.Variable(tf.zeros(conv_num_outputs))\n",
    "    \n",
    "    # Apply convolution\n",
    "    conv_layer = tf.nn.conv2d(x_tensor, weight, strides=[1, conv_x_stride, conv_y_stride, 1], padding='SAME')\n",
    "    # Add bias\n",
    "    conv_layer = tf.nn.bias_add(conv_layer, bias)\n",
    "    # Apply activation function\n",
    "    conv_layer = tf.nn.relu(conv_layer)    \n",
    "    # Apply max pooling\n",
    "    conv_layer = tf.nn.max_pool(conv_layer,ksize=[1, pool_ksize[0], pool_ksize[1], 1],strides=[1, pool_strides[0], pool_strides[1], 1], padding = 'SAME')\n",
    "    \n",
    "    #print (conv_layer)\n",
    "    \n",
    "    return conv_layer \n",
    "\n",
    "\n",
    "\"\"\"\n",
    "DON'T MODIFY ANYTHING IN THIS CELL THAT IS BELOW THIS LINE\n",
    "\"\"\"\n",
    "tests.test_con_pool(conv2d_maxpool)"
   ]
  },
  {
   "cell_type": "markdown",
   "metadata": {
    "deletable": true,
    "editable": true
   },
   "source": [
    "### Flatten Layer\n",
    "Implement the `flatten` function to change the dimension of `x_tensor` from a 4-D tensor to a 2-D tensor.  The output should be the shape (*Batch Size*, *Flattened Image Size*). Shortcut option: you can use classes from the [TensorFlow Layers](https://www.tensorflow.org/api_docs/python/tf/layers) or [TensorFlow Layers (contrib)](https://www.tensorflow.org/api_guides/python/contrib.layers) packages for this layer. For more of a challenge, only use other TensorFlow packages."
   ]
  },
  {
   "cell_type": "code",
   "execution_count": 122,
   "metadata": {
    "collapsed": false,
    "deletable": true,
    "editable": true
   },
   "outputs": [
    {
     "name": "stdout",
     "output_type": "stream",
     "text": [
      "Tests Passed\n"
     ]
    }
   ],
   "source": [
    "def flatten(x_tensor):\n",
    "    \"\"\"\n",
    "    Flatten x_tensor to (Batch Size, Flattened Image Size)\n",
    "    : x_tensor: A tensor of size (Batch Size, ...), where ... are the image dimensions.\n",
    "    : return: A tensor of size (Batch Size, Flattened Image Size).\n",
    "    \"\"\"\n",
    "    # TODO: Implement Function\n",
    "    #batch_size, image_x, image_y, image_z = x_tensor.shape  \n",
    "    shape = x_tensor.get_shape().as_list()\n",
    "    dim = np.prod(shape[1:])  \n",
    "    #print (dim)\n",
    "    \n",
    "    flatten = tf.reshape(x_tensor, shape=[-1,dim], name=None)\n",
    "    return flatten\n",
    "\n",
    "\"\"\"\n",
    "DON'T MODIFY ANYTHING IN THIS CELL THAT IS BELOW THIS LINE\n",
    "\"\"\"\n",
    "tests.test_flatten(flatten)"
   ]
  },
  {
   "cell_type": "markdown",
   "metadata": {
    "deletable": true,
    "editable": true
   },
   "source": [
    "### Fully-Connected Layer\n",
    "Implement the `fully_conn` function to apply a fully connected layer to `x_tensor` with the shape (*Batch Size*, *num_outputs*). Shortcut option: you can use classes from the [TensorFlow Layers](https://www.tensorflow.org/api_docs/python/tf/layers) or [TensorFlow Layers (contrib)](https://www.tensorflow.org/api_guides/python/contrib.layers) packages for this layer. For more of a challenge, only use other TensorFlow packages."
   ]
  },
  {
   "cell_type": "code",
   "execution_count": 125,
   "metadata": {
    "collapsed": false,
    "deletable": true,
    "editable": true
   },
   "outputs": [
    {
     "name": "stdout",
     "output_type": "stream",
     "text": [
      "Tests Passed\n"
     ]
    }
   ],
   "source": [
    "def fully_conn(x_tensor, num_outputs):\n",
    "    \"\"\"\n",
    "    Apply a fully connected layer to x_tensor using weight and bias\n",
    "    : x_tensor: A 2-D tensor where the first dimension is batch size.\n",
    "    : num_outputs: The number of output that the new tensor should be.\n",
    "    : return: A 2-D tensor where the second dimension is num_outputs.\n",
    "    \"\"\"\n",
    "    # TODO: Implement Function    \n",
    "    shape = x_tensor.get_shape().as_list()\n",
    "    weights = tf.Variable(tf.truncated_normal([shape[1], num_outputs], stddev=math.sqrt(1.0/shape[1])) )\n",
    "    bias = tf.Variable(tf.zeros(num_outputs))\n",
    "    \n",
    "    #print (x_tensor.shape)\n",
    "    #print (weights.shape)\n",
    "    \n",
    "    return tf.add(tf.matmul(x_tensor, weights), bias)\n",
    "\n",
    "\n",
    "\"\"\"\n",
    "DON'T MODIFY ANYTHING IN THIS CELL THAT IS BELOW THIS LINE\n",
    "\"\"\"\n",
    "tests.test_fully_conn(fully_conn)"
   ]
  },
  {
   "cell_type": "markdown",
   "metadata": {
    "deletable": true,
    "editable": true
   },
   "source": [
    "### Output Layer\n",
    "Implement the `output` function to apply a fully connected layer to `x_tensor` with the shape (*Batch Size*, *num_outputs*). Shortcut option: you can use classes from the [TensorFlow Layers](https://www.tensorflow.org/api_docs/python/tf/layers) or [TensorFlow Layers (contrib)](https://www.tensorflow.org/api_guides/python/contrib.layers) packages for this layer. For more of a challenge, only use other TensorFlow packages.\n",
    "\n",
    "**Note:** Activation, softmax, or cross entropy should **not** be applied to this."
   ]
  },
  {
   "cell_type": "code",
   "execution_count": 126,
   "metadata": {
    "collapsed": false,
    "deletable": true,
    "editable": true
   },
   "outputs": [
    {
     "name": "stdout",
     "output_type": "stream",
     "text": [
      "Tests Passed\n"
     ]
    }
   ],
   "source": [
    "def output(x_tensor, num_outputs):\n",
    "    \"\"\"\n",
    "    Apply a output layer to x_tensor using weight and bias\n",
    "    : x_tensor: A 2-D tensor where the first dimension is batch size.\n",
    "    : num_outputs: The number of output that the new tensor should be.\n",
    "    : return: A 2-D tensor where the second dimension is num_outputs.\n",
    "    \"\"\"\n",
    "    # TODO: Implement Function\n",
    "    shape = x_tensor.get_shape().as_list()\n",
    "    weights = tf.Variable(tf.truncated_normal([shape[1], num_outputs], stddev=math.sqrt(1.0/shape[1])))\n",
    "    bias = tf.Variable(tf.zeros(num_outputs))\n",
    "  \n",
    "    #print (x_tensor.shape)\n",
    "    #print (weights)\n",
    "\n",
    "    return tf.add(tf.matmul(x_tensor, weights), bias)\n",
    "\n",
    "\n",
    "\"\"\"\n",
    "DON'T MODIFY ANYTHING IN THIS CELL THAT IS BELOW THIS LINE\n",
    "\"\"\"\n",
    "tests.test_output(output)"
   ]
  },
  {
   "cell_type": "markdown",
   "metadata": {
    "deletable": true,
    "editable": true
   },
   "source": [
    "### Create Convolutional Model\n",
    "Implement the function `conv_net` to create a convolutional neural network model. The function takes in a batch of images, `x`, and outputs logits.  Use the layers you created above to create this model:\n",
    "\n",
    "* Apply 1, 2, or 3 Convolution and Max Pool layers\n",
    "* Apply a Flatten Layer\n",
    "* Apply 1, 2, or 3 Fully Connected Layers\n",
    "* Apply an Output Layer\n",
    "* Return the output\n",
    "* Apply [TensorFlow's Dropout](https://www.tensorflow.org/api_docs/python/tf/nn/dropout) to one or more layers in the model using `keep_prob`. "
   ]
  },
  {
   "cell_type": "code",
   "execution_count": 127,
   "metadata": {
    "collapsed": false,
    "deletable": true,
    "editable": true
   },
   "outputs": [
    {
     "name": "stdout",
     "output_type": "stream",
     "text": [
      "Neural Network Built!\n"
     ]
    }
   ],
   "source": [
    "def conv_net(x, keep_prob):\n",
    "    \"\"\"\n",
    "    Create a convolutional neural network model\n",
    "    : x: Placeholder tensor that holds image data.\n",
    "    : keep_prob: Placeholder tensor that hold dropout keep probability.\n",
    "    : return: Tensor that represents logits\n",
    "    \"\"\"\n",
    "    # TODO: Apply 1, 2, or 3 Convolution and Max Pool layers\n",
    "    #    Play around with different number of outputs, kernel size and stride\n",
    "    # Function Definition from Above:\n",
    "    #    conv2d_maxpool(x_tensor, conv_num_outputs, conv_ksize, conv_strides, pool_ksize, pool_strides)\n",
    "    #print (x.shape)\n",
    "    \n",
    "    layer_1 = conv2d_maxpool(x, conv_num_outputs = 48, conv_ksize = (3, 3), conv_strides = (1, 1), \n",
    "                              pool_ksize = (2, 2), pool_strides = (2, 2))\n",
    "    \n",
    "    layer_2 = conv2d_maxpool(layer_1, conv_num_outputs = 96, conv_ksize = (3, 3), conv_strides = (1, 1), \n",
    "                              pool_ksize = (2, 2), pool_strides = (2, 2))\n",
    "    \n",
    "    layer_last = conv2d_maxpool(layer_2, conv_num_outputs = 192, conv_ksize = (3, 3), conv_strides = (1, 1), \n",
    "                              pool_ksize = (2, 2), pool_strides = (2, 2))\n",
    "    \n",
    "    # TODO: Apply a Flatten Layer\n",
    "    # Function Definition from Above:\n",
    "    #   flatten(x_tensor)\n",
    "    flatten_layer = flatten(layer_last)\n",
    "    \n",
    "    # TODO: Apply 1, 2, or 3 Fully Connected Layers\n",
    "    #    Play around with different number of outputs\n",
    "    # Function Definition from Above:\n",
    "    #   fully_conn(x_tensor, num_outputs)\n",
    "    fully_connected_1 = fully_conn(flatten_layer, 2048)\n",
    "    fully_connected_1 = tf.nn.relu(fully_connected_1)\n",
    "    fully_connected_1 = tf.nn.dropout(fully_connected_1, keep_prob)\n",
    "    \n",
    "    fully_connected_2 = fully_conn(fully_connected_1, 1024)\n",
    "    fully_connected_2 = tf.nn.relu(fully_connected_2)\n",
    "    fully_connected_2 = tf.nn.dropout(fully_connected_2, keep_prob)\n",
    "\n",
    "    fully_connected_last = fully_conn(fully_connected_2, 256)\n",
    "    fully_connected_last = tf.nn.relu(fully_connected_last)\n",
    "    fully_connected_last = tf.nn.dropout(fully_connected_last, keep_prob)\n",
    "\n",
    "        \n",
    "    # TODO: Apply an Output Layer\n",
    "    #    Set this to the number of classes\n",
    "    # Function Definition from Above:\n",
    "    #   output(x_tensor, num_outputs)\n",
    "      \n",
    "    # TODO: return output\n",
    "    return output(fully_connected_last, 10)\n",
    "\n",
    "\n",
    "\"\"\"\n",
    "DON'T MODIFY ANYTHING IN THIS CELL THAT IS BELOW THIS LINE\n",
    "\"\"\"\n",
    "\n",
    "##############################\n",
    "## Build the Neural Network ##\n",
    "##############################\n",
    "\n",
    "# Remove previous weights, bias, inputs, etc..\n",
    "tf.reset_default_graph()\n",
    "\n",
    "# Inputs\n",
    "x = neural_net_image_input((32, 32, 3))\n",
    "y = neural_net_label_input(10)\n",
    "keep_prob = neural_net_keep_prob_input()\n",
    "\n",
    "# Model\n",
    "logits = conv_net(x, keep_prob)\n",
    "\n",
    "# Name logits Tensor, so that is can be loaded from disk after training\n",
    "logits = tf.identity(logits, name='logits')\n",
    "\n",
    "# Loss and Optimizer\n",
    "cost = tf.reduce_mean(tf.nn.softmax_cross_entropy_with_logits(logits=logits, labels=y))\n",
    "optimizer = tf.train.AdamOptimizer().minimize(cost)\n",
    "\n",
    "# Accuracy\n",
    "correct_pred = tf.equal(tf.argmax(logits, 1), tf.argmax(y, 1))\n",
    "accuracy = tf.reduce_mean(tf.cast(correct_pred, tf.float32), name='accuracy')\n",
    "\n",
    "tests.test_conv_net(conv_net)"
   ]
  },
  {
   "cell_type": "markdown",
   "metadata": {
    "deletable": true,
    "editable": true
   },
   "source": [
    "## Train the Neural Network\n",
    "### Single Optimization\n",
    "Implement the function `train_neural_network` to do a single optimization.  The optimization should use `optimizer` to optimize in `session` with a `feed_dict` of the following:\n",
    "* `x` for image input\n",
    "* `y` for labels\n",
    "* `keep_prob` for keep probability for dropout\n",
    "\n",
    "This function will be called for each batch, so `tf.global_variables_initializer()` has already been called.\n",
    "\n",
    "Note: Nothing needs to be returned. This function is only optimizing the neural network."
   ]
  },
  {
   "cell_type": "code",
   "execution_count": 128,
   "metadata": {
    "collapsed": false,
    "deletable": true,
    "editable": true
   },
   "outputs": [
    {
     "name": "stdout",
     "output_type": "stream",
     "text": [
      "Tests Passed\n"
     ]
    }
   ],
   "source": [
    "def train_neural_network(session, optimizer, keep_probability, feature_batch, label_batch):\n",
    "    \"\"\"\n",
    "    Optimize the session on a batch of images and labels\n",
    "    : session: Current TensorFlow session\n",
    "    : optimizer: TensorFlow optimizer function\n",
    "    : keep_probability: keep probability\n",
    "    : feature_batch: Batch of Numpy image data\n",
    "    : label_batch: Batch of Numpy label data\n",
    "    \"\"\"\n",
    "    # TODO: Implement Function\n",
    "    # x for image input\n",
    "    # y for label\n",
    "    session.run(optimizer, feed_dict = {x: feature_batch, y: label_batch, keep_prob: keep_probability})\n",
    "    \n",
    "    #pass\n",
    "\n",
    "\n",
    "\"\"\"\n",
    "DON'T MODIFY ANYTHING IN THIS CELL THAT IS BELOW THIS LINE\n",
    "\"\"\"\n",
    "tests.test_train_nn(train_neural_network)"
   ]
  },
  {
   "cell_type": "markdown",
   "metadata": {
    "deletable": true,
    "editable": true
   },
   "source": [
    "### Show Stats\n",
    "Implement the function `print_stats` to print loss and validation accuracy.  Use the global variables `valid_features` and `valid_labels` to calculate validation accuracy.  Use a keep probability of `1.0` to calculate the loss and validation accuracy."
   ]
  },
  {
   "cell_type": "code",
   "execution_count": 129,
   "metadata": {
    "collapsed": false,
    "deletable": true,
    "editable": true
   },
   "outputs": [],
   "source": [
    "def print_stats(session, feature_batch, label_batch, cost, accuracy):\n",
    "    \"\"\"\n",
    "    Print information about loss and validation accuracy\n",
    "    : session: Current TensorFlow session\n",
    "    : feature_batch: Batch of Numpy image data\n",
    "    : label_batch: Batch of Numpy label data\n",
    "    : cost: TensorFlow cost function\n",
    "    : accuracy: TensorFlow accuracy function\n",
    "    \"\"\"\n",
    "    # TODO: Implement Function\n",
    "    loss = session.run(cost, feed_dict={\n",
    "                                        x: feature_batch,\n",
    "                                        y: label_batch,\n",
    "                                        keep_prob: 1.0})\n",
    "    valid_acc = session.run(accuracy, feed_dict={\n",
    "                                        x: valid_features,\n",
    "                                        y: valid_labels,\n",
    "                                        keep_prob: 1.0})\n",
    "    #print (type(loss))\n",
    "    print ('Loss: {:>10.4f}, validation Accuracy: {:.6f}'.format(loss, valid_acc) )\n",
    "    #pass"
   ]
  },
  {
   "cell_type": "markdown",
   "metadata": {
    "deletable": true,
    "editable": true
   },
   "source": [
    "### Hyperparameters\n",
    "Tune the following parameters:\n",
    "* Set `epochs` to the number of iterations until the network stops learning or start overfitting\n",
    "* Set `batch_size` to the highest number that your machine has memory for.  Most people set them to common sizes of memory:\n",
    " * 64\n",
    " * 128\n",
    " * 256\n",
    " * ...\n",
    "* Set `keep_probability` to the probability of keeping a node using dropout"
   ]
  },
  {
   "cell_type": "code",
   "execution_count": 132,
   "metadata": {
    "collapsed": true,
    "deletable": true,
    "editable": true
   },
   "outputs": [],
   "source": [
    "# TODO: Tune Parameters\n",
    "epochs = 32\n",
    "batch_size = 32\n",
    "keep_probability = 0.6"
   ]
  },
  {
   "cell_type": "markdown",
   "metadata": {
    "deletable": true,
    "editable": true
   },
   "source": [
    "### Train on a Single CIFAR-10 Batch\n",
    "Instead of training the neural network on all the CIFAR-10 batches of data, let's use a single batch. This should save time while you iterate on the model to get a better accuracy.  Once the final validation accuracy is 50% or greater, run the model on all the data in the next section."
   ]
  },
  {
   "cell_type": "code",
   "execution_count": 133,
   "metadata": {
    "collapsed": false,
    "deletable": true,
    "editable": true
   },
   "outputs": [
    {
     "name": "stdout",
     "output_type": "stream",
     "text": [
      "Checking the Training on a Single Batch...\n",
      "Epoch  1, CIFAR-10 Batch 1:  Loss:     2.1868, validation Accuracy: 0.278800\n",
      "Epoch  2, CIFAR-10 Batch 1:  Loss:     1.8212, validation Accuracy: 0.394000\n",
      "Epoch  3, CIFAR-10 Batch 1:  Loss:     1.3742, validation Accuracy: 0.430800\n",
      "Epoch  4, CIFAR-10 Batch 1:  Loss:     1.1212, validation Accuracy: 0.469200\n",
      "Epoch  5, CIFAR-10 Batch 1:  Loss:     0.9347, validation Accuracy: 0.481400\n",
      "Epoch  6, CIFAR-10 Batch 1:  Loss:     0.7938, validation Accuracy: 0.506000\n",
      "Epoch  7, CIFAR-10 Batch 1:  Loss:     0.5727, validation Accuracy: 0.547000\n",
      "Epoch  8, CIFAR-10 Batch 1:  Loss:     0.4116, validation Accuracy: 0.546400\n",
      "Epoch  9, CIFAR-10 Batch 1:  Loss:     0.3819, validation Accuracy: 0.562000\n",
      "Epoch 10, CIFAR-10 Batch 1:  Loss:     0.2204, validation Accuracy: 0.562200\n",
      "Epoch 11, CIFAR-10 Batch 1:  Loss:     0.1889, validation Accuracy: 0.544000\n",
      "Epoch 12, CIFAR-10 Batch 1:  Loss:     0.1770, validation Accuracy: 0.553200\n",
      "Epoch 13, CIFAR-10 Batch 1:  Loss:     0.0598, validation Accuracy: 0.558600\n",
      "Epoch 14, CIFAR-10 Batch 1:  Loss:     0.1511, validation Accuracy: 0.558200\n",
      "Epoch 15, CIFAR-10 Batch 1:  Loss:     0.0314, validation Accuracy: 0.566800\n",
      "Epoch 16, CIFAR-10 Batch 1:  Loss:     0.0479, validation Accuracy: 0.550600\n",
      "Epoch 17, CIFAR-10 Batch 1:  Loss:     0.0576, validation Accuracy: 0.557000\n",
      "Epoch 18, CIFAR-10 Batch 1:  Loss:     0.0131, validation Accuracy: 0.547600\n",
      "Epoch 19, CIFAR-10 Batch 1:  Loss:     0.0045, validation Accuracy: 0.575800\n",
      "Epoch 20, CIFAR-10 Batch 1:  Loss:     0.0090, validation Accuracy: 0.556800\n",
      "Epoch 21, CIFAR-10 Batch 1:  Loss:     0.0323, validation Accuracy: 0.576800\n",
      "Epoch 22, CIFAR-10 Batch 1:  Loss:     0.0013, validation Accuracy: 0.564200\n",
      "Epoch 23, CIFAR-10 Batch 1:  Loss:     0.0019, validation Accuracy: 0.559000\n",
      "Epoch 24, CIFAR-10 Batch 1:  Loss:     0.0017, validation Accuracy: 0.558600\n",
      "Epoch 25, CIFAR-10 Batch 1:  Loss:     0.0001, validation Accuracy: 0.573000\n",
      "Epoch 26, CIFAR-10 Batch 1:  Loss:     0.0000, validation Accuracy: 0.568600\n",
      "Epoch 27, CIFAR-10 Batch 1:  Loss:     0.0001, validation Accuracy: 0.574200\n",
      "Epoch 28, CIFAR-10 Batch 1:  Loss:     0.0007, validation Accuracy: 0.563600\n",
      "Epoch 29, CIFAR-10 Batch 1:  Loss:     0.0001, validation Accuracy: 0.552400\n",
      "Epoch 30, CIFAR-10 Batch 1:  Loss:     0.0010, validation Accuracy: 0.570400\n",
      "Epoch 31, CIFAR-10 Batch 1:  Loss:     0.0000, validation Accuracy: 0.576800\n",
      "Epoch 32, CIFAR-10 Batch 1:  Loss:     0.0001, validation Accuracy: 0.579600\n"
     ]
    }
   ],
   "source": [
    "\"\"\"\n",
    "DON'T MODIFY ANYTHING IN THIS CELL\n",
    "\"\"\"\n",
    "print('Checking the Training on a Single Batch...')\n",
    "with tf.Session() as sess:\n",
    "    # Initializing the variables\n",
    "    sess.run(tf.global_variables_initializer())\n",
    "    \n",
    "    # Training cycle\n",
    "    for epoch in range(epochs):\n",
    "        batch_i = 1\n",
    "        for batch_features, batch_labels in helper.load_preprocess_training_batch(batch_i, batch_size):\n",
    "            train_neural_network(sess, optimizer, keep_probability, batch_features, batch_labels)\n",
    "        print('Epoch {:>2}, CIFAR-10 Batch {}:  '.format(epoch + 1, batch_i), end='')\n",
    "        print_stats(sess, batch_features, batch_labels, cost, accuracy)"
   ]
  },
  {
   "cell_type": "markdown",
   "metadata": {
    "deletable": true,
    "editable": true
   },
   "source": [
    "### Fully Train the Model\n",
    "Now that you got a good accuracy with a single CIFAR-10 batch, try it with all five batches."
   ]
  },
  {
   "cell_type": "code",
   "execution_count": 134,
   "metadata": {
    "collapsed": false,
    "deletable": true,
    "editable": true
   },
   "outputs": [
    {
     "name": "stdout",
     "output_type": "stream",
     "text": [
      "Training...\n",
      "Epoch  1, CIFAR-10 Batch 1:  Loss:     2.0857, validation Accuracy: 0.243200\n",
      "Epoch  1, CIFAR-10 Batch 2:  Loss:     1.3821, validation Accuracy: 0.345800\n",
      "Epoch  1, CIFAR-10 Batch 3:  Loss:     1.2094, validation Accuracy: 0.426600\n",
      "Epoch  1, CIFAR-10 Batch 4:  Loss:     1.4178, validation Accuracy: 0.457400\n",
      "Epoch  1, CIFAR-10 Batch 5:  Loss:     1.4195, validation Accuracy: 0.529600\n",
      "Epoch  2, CIFAR-10 Batch 1:  Loss:     1.0996, validation Accuracy: 0.549800\n",
      "Epoch  2, CIFAR-10 Batch 2:  Loss:     1.0541, validation Accuracy: 0.563000\n",
      "Epoch  2, CIFAR-10 Batch 3:  Loss:     0.9992, validation Accuracy: 0.565400\n",
      "Epoch  2, CIFAR-10 Batch 4:  Loss:     1.0165, validation Accuracy: 0.577200\n",
      "Epoch  2, CIFAR-10 Batch 5:  Loss:     0.9338, validation Accuracy: 0.611000\n",
      "Epoch  3, CIFAR-10 Batch 1:  Loss:     0.8151, validation Accuracy: 0.588200\n",
      "Epoch  3, CIFAR-10 Batch 2:  Loss:     1.0505, validation Accuracy: 0.612800\n",
      "Epoch  3, CIFAR-10 Batch 3:  Loss:     0.8126, validation Accuracy: 0.638400\n",
      "Epoch  3, CIFAR-10 Batch 4:  Loss:     0.7210, validation Accuracy: 0.637000\n",
      "Epoch  3, CIFAR-10 Batch 5:  Loss:     0.7745, validation Accuracy: 0.645000\n",
      "Epoch  4, CIFAR-10 Batch 1:  Loss:     0.8810, validation Accuracy: 0.647200\n",
      "Epoch  4, CIFAR-10 Batch 2:  Loss:     0.5186, validation Accuracy: 0.645800\n",
      "Epoch  4, CIFAR-10 Batch 3:  Loss:     0.5811, validation Accuracy: 0.655000\n",
      "Epoch  4, CIFAR-10 Batch 4:  Loss:     0.4390, validation Accuracy: 0.669600\n",
      "Epoch  4, CIFAR-10 Batch 5:  Loss:     0.5282, validation Accuracy: 0.685800\n",
      "Epoch  5, CIFAR-10 Batch 1:  Loss:     0.5900, validation Accuracy: 0.686200\n",
      "Epoch  5, CIFAR-10 Batch 2:  Loss:     0.5956, validation Accuracy: 0.676200\n",
      "Epoch  5, CIFAR-10 Batch 3:  Loss:     0.4625, validation Accuracy: 0.692000\n",
      "Epoch  5, CIFAR-10 Batch 4:  Loss:     0.3513, validation Accuracy: 0.697600\n",
      "Epoch  5, CIFAR-10 Batch 5:  Loss:     0.4710, validation Accuracy: 0.689000\n",
      "Epoch  6, CIFAR-10 Batch 1:  Loss:     0.4032, validation Accuracy: 0.685200\n",
      "Epoch  6, CIFAR-10 Batch 2:  Loss:     0.3429, validation Accuracy: 0.680000\n",
      "Epoch  6, CIFAR-10 Batch 3:  Loss:     0.5295, validation Accuracy: 0.683400\n",
      "Epoch  6, CIFAR-10 Batch 4:  Loss:     0.3294, validation Accuracy: 0.700000\n",
      "Epoch  6, CIFAR-10 Batch 5:  Loss:     0.3601, validation Accuracy: 0.706800\n",
      "Epoch  7, CIFAR-10 Batch 1:  Loss:     0.2490, validation Accuracy: 0.690000\n",
      "Epoch  7, CIFAR-10 Batch 2:  Loss:     0.6462, validation Accuracy: 0.659000\n",
      "Epoch  7, CIFAR-10 Batch 3:  Loss:     0.3115, validation Accuracy: 0.702800\n",
      "Epoch  7, CIFAR-10 Batch 4:  Loss:     0.4458, validation Accuracy: 0.709400\n",
      "Epoch  7, CIFAR-10 Batch 5:  Loss:     0.2577, validation Accuracy: 0.703600\n",
      "Epoch  8, CIFAR-10 Batch 1:  Loss:     0.1507, validation Accuracy: 0.702000\n",
      "Epoch  8, CIFAR-10 Batch 2:  Loss:     0.3507, validation Accuracy: 0.680400\n",
      "Epoch  8, CIFAR-10 Batch 3:  Loss:     0.1665, validation Accuracy: 0.690200\n",
      "Epoch  8, CIFAR-10 Batch 4:  Loss:     0.1520, validation Accuracy: 0.717800\n",
      "Epoch  8, CIFAR-10 Batch 5:  Loss:     0.2802, validation Accuracy: 0.699400\n",
      "Epoch  9, CIFAR-10 Batch 1:  Loss:     0.0751, validation Accuracy: 0.704000\n",
      "Epoch  9, CIFAR-10 Batch 2:  Loss:     0.1646, validation Accuracy: 0.704000\n",
      "Epoch  9, CIFAR-10 Batch 3:  Loss:     0.1223, validation Accuracy: 0.713800\n",
      "Epoch  9, CIFAR-10 Batch 4:  Loss:     0.1473, validation Accuracy: 0.716000\n",
      "Epoch  9, CIFAR-10 Batch 5:  Loss:     0.1884, validation Accuracy: 0.706800\n",
      "Epoch 10, CIFAR-10 Batch 1:  Loss:     0.0804, validation Accuracy: 0.701800\n",
      "Epoch 10, CIFAR-10 Batch 2:  Loss:     0.1203, validation Accuracy: 0.701200\n",
      "Epoch 10, CIFAR-10 Batch 3:  Loss:     0.1105, validation Accuracy: 0.722400\n",
      "Epoch 10, CIFAR-10 Batch 4:  Loss:     0.0813, validation Accuracy: 0.718400\n",
      "Epoch 10, CIFAR-10 Batch 5:  Loss:     0.1887, validation Accuracy: 0.708400\n",
      "Epoch 11, CIFAR-10 Batch 1:  Loss:     0.0303, validation Accuracy: 0.709000\n",
      "Epoch 11, CIFAR-10 Batch 2:  Loss:     0.1179, validation Accuracy: 0.705200\n",
      "Epoch 11, CIFAR-10 Batch 3:  Loss:     0.1101, validation Accuracy: 0.712800\n",
      "Epoch 11, CIFAR-10 Batch 4:  Loss:     0.1979, validation Accuracy: 0.712800\n",
      "Epoch 11, CIFAR-10 Batch 5:  Loss:     0.0471, validation Accuracy: 0.713200\n",
      "Epoch 12, CIFAR-10 Batch 1:  Loss:     0.0503, validation Accuracy: 0.688200\n",
      "Epoch 12, CIFAR-10 Batch 2:  Loss:     0.1818, validation Accuracy: 0.712800\n",
      "Epoch 12, CIFAR-10 Batch 3:  Loss:     0.0862, validation Accuracy: 0.718000\n",
      "Epoch 12, CIFAR-10 Batch 4:  Loss:     0.0583, validation Accuracy: 0.721200\n",
      "Epoch 12, CIFAR-10 Batch 5:  Loss:     0.0745, validation Accuracy: 0.707400\n",
      "Epoch 13, CIFAR-10 Batch 1:  Loss:     0.1065, validation Accuracy: 0.702800\n",
      "Epoch 13, CIFAR-10 Batch 2:  Loss:     0.0505, validation Accuracy: 0.705200\n",
      "Epoch 13, CIFAR-10 Batch 3:  Loss:     0.0427, validation Accuracy: 0.702800\n",
      "Epoch 13, CIFAR-10 Batch 4:  Loss:     0.0415, validation Accuracy: 0.712200\n",
      "Epoch 13, CIFAR-10 Batch 5:  Loss:     0.0293, validation Accuracy: 0.715800\n",
      "Epoch 14, CIFAR-10 Batch 1:  Loss:     0.0425, validation Accuracy: 0.700400\n",
      "Epoch 14, CIFAR-10 Batch 2:  Loss:     0.0428, validation Accuracy: 0.721400\n",
      "Epoch 14, CIFAR-10 Batch 3:  Loss:     0.1347, validation Accuracy: 0.722600\n",
      "Epoch 14, CIFAR-10 Batch 4:  Loss:     0.0541, validation Accuracy: 0.719000\n",
      "Epoch 14, CIFAR-10 Batch 5:  Loss:     0.0370, validation Accuracy: 0.718200\n",
      "Epoch 15, CIFAR-10 Batch 1:  Loss:     0.0061, validation Accuracy: 0.714800\n",
      "Epoch 15, CIFAR-10 Batch 2:  Loss:     0.0294, validation Accuracy: 0.709800\n",
      "Epoch 15, CIFAR-10 Batch 3:  Loss:     0.0662, validation Accuracy: 0.718600\n",
      "Epoch 15, CIFAR-10 Batch 4:  Loss:     0.0884, validation Accuracy: 0.710800\n",
      "Epoch 15, CIFAR-10 Batch 5:  Loss:     0.0258, validation Accuracy: 0.720800\n",
      "Epoch 16, CIFAR-10 Batch 1:  Loss:     0.0057, validation Accuracy: 0.705000\n",
      "Epoch 16, CIFAR-10 Batch 2:  Loss:     0.0089, validation Accuracy: 0.722200\n",
      "Epoch 16, CIFAR-10 Batch 3:  Loss:     0.0423, validation Accuracy: 0.715800\n",
      "Epoch 16, CIFAR-10 Batch 4:  Loss:     0.0278, validation Accuracy: 0.724200\n",
      "Epoch 16, CIFAR-10 Batch 5:  Loss:     0.0125, validation Accuracy: 0.715400\n",
      "Epoch 17, CIFAR-10 Batch 1:  Loss:     0.0270, validation Accuracy: 0.718000\n",
      "Epoch 17, CIFAR-10 Batch 2:  Loss:     0.0054, validation Accuracy: 0.721400\n",
      "Epoch 17, CIFAR-10 Batch 3:  Loss:     0.0215, validation Accuracy: 0.721200\n",
      "Epoch 17, CIFAR-10 Batch 4:  Loss:     0.0412, validation Accuracy: 0.720600\n",
      "Epoch 17, CIFAR-10 Batch 5:  Loss:     0.0249, validation Accuracy: 0.723400\n",
      "Epoch 18, CIFAR-10 Batch 1:  Loss:     0.0030, validation Accuracy: 0.704800\n",
      "Epoch 18, CIFAR-10 Batch 2:  Loss:     0.0074, validation Accuracy: 0.724400\n",
      "Epoch 18, CIFAR-10 Batch 3:  Loss:     0.0160, validation Accuracy: 0.715600\n",
      "Epoch 18, CIFAR-10 Batch 4:  Loss:     0.0742, validation Accuracy: 0.727000\n",
      "Epoch 18, CIFAR-10 Batch 5:  Loss:     0.0036, validation Accuracy: 0.719600\n",
      "Epoch 19, CIFAR-10 Batch 1:  Loss:     0.0355, validation Accuracy: 0.699000\n",
      "Epoch 19, CIFAR-10 Batch 2:  Loss:     0.0043, validation Accuracy: 0.716200\n",
      "Epoch 19, CIFAR-10 Batch 3:  Loss:     0.0251, validation Accuracy: 0.726200\n",
      "Epoch 19, CIFAR-10 Batch 4:  Loss:     0.0517, validation Accuracy: 0.721000\n",
      "Epoch 19, CIFAR-10 Batch 5:  Loss:     0.0244, validation Accuracy: 0.720800\n",
      "Epoch 20, CIFAR-10 Batch 1:  Loss:     0.0390, validation Accuracy: 0.709200\n",
      "Epoch 20, CIFAR-10 Batch 2:  Loss:     0.0534, validation Accuracy: 0.709000\n",
      "Epoch 20, CIFAR-10 Batch 3:  Loss:     0.0439, validation Accuracy: 0.716800\n",
      "Epoch 20, CIFAR-10 Batch 4:  Loss:     0.1505, validation Accuracy: 0.702400\n",
      "Epoch 20, CIFAR-10 Batch 5:  Loss:     0.0134, validation Accuracy: 0.726600\n",
      "Epoch 21, CIFAR-10 Batch 1:  Loss:     0.0245, validation Accuracy: 0.717000\n",
      "Epoch 21, CIFAR-10 Batch 2:  Loss:     0.0583, validation Accuracy: 0.708800\n",
      "Epoch 21, CIFAR-10 Batch 3:  Loss:     0.0141, validation Accuracy: 0.722400\n",
      "Epoch 21, CIFAR-10 Batch 4:  Loss:     0.0345, validation Accuracy: 0.725800\n",
      "Epoch 21, CIFAR-10 Batch 5:  Loss:     0.0153, validation Accuracy: 0.713400\n",
      "Epoch 22, CIFAR-10 Batch 1:  Loss:     0.0150, validation Accuracy: 0.698000\n",
      "Epoch 22, CIFAR-10 Batch 2:  Loss:     0.0010, validation Accuracy: 0.712600\n",
      "Epoch 22, CIFAR-10 Batch 3:  Loss:     0.0624, validation Accuracy: 0.719400\n",
      "Epoch 22, CIFAR-10 Batch 4:  Loss:     0.0047, validation Accuracy: 0.710400\n",
      "Epoch 22, CIFAR-10 Batch 5:  Loss:     0.0062, validation Accuracy: 0.713200\n",
      "Epoch 23, CIFAR-10 Batch 1:  Loss:     0.0100, validation Accuracy: 0.710600\n",
      "Epoch 23, CIFAR-10 Batch 2:  Loss:     0.0027, validation Accuracy: 0.719800\n",
      "Epoch 23, CIFAR-10 Batch 3:  Loss:     0.0172, validation Accuracy: 0.721600\n",
      "Epoch 23, CIFAR-10 Batch 4:  Loss:     0.0067, validation Accuracy: 0.712200\n",
      "Epoch 23, CIFAR-10 Batch 5:  Loss:     0.0071, validation Accuracy: 0.720000\n",
      "Epoch 24, CIFAR-10 Batch 1:  Loss:     0.0908, validation Accuracy: 0.712400\n",
      "Epoch 24, CIFAR-10 Batch 2:  Loss:     0.0052, validation Accuracy: 0.720600\n",
      "Epoch 24, CIFAR-10 Batch 3:  Loss:     0.0283, validation Accuracy: 0.718000\n",
      "Epoch 24, CIFAR-10 Batch 4:  Loss:     0.0022, validation Accuracy: 0.723400\n",
      "Epoch 24, CIFAR-10 Batch 5:  Loss:     0.0105, validation Accuracy: 0.728200\n",
      "Epoch 25, CIFAR-10 Batch 1:  Loss:     0.0125, validation Accuracy: 0.682800\n",
      "Epoch 25, CIFAR-10 Batch 2:  Loss:     0.0041, validation Accuracy: 0.717400\n",
      "Epoch 25, CIFAR-10 Batch 3:  Loss:     0.0041, validation Accuracy: 0.729600\n",
      "Epoch 25, CIFAR-10 Batch 4:  Loss:     0.0294, validation Accuracy: 0.723400\n",
      "Epoch 25, CIFAR-10 Batch 5:  Loss:     0.0055, validation Accuracy: 0.729000\n",
      "Epoch 26, CIFAR-10 Batch 1:  Loss:     0.0042, validation Accuracy: 0.721600\n",
      "Epoch 26, CIFAR-10 Batch 2:  Loss:     0.0028, validation Accuracy: 0.713600\n",
      "Epoch 26, CIFAR-10 Batch 3:  Loss:     0.1153, validation Accuracy: 0.718400\n",
      "Epoch 26, CIFAR-10 Batch 4:  Loss:     0.0118, validation Accuracy: 0.720600\n",
      "Epoch 26, CIFAR-10 Batch 5:  Loss:     0.0251, validation Accuracy: 0.710400\n",
      "Epoch 27, CIFAR-10 Batch 1:  Loss:     0.0085, validation Accuracy: 0.721000\n",
      "Epoch 27, CIFAR-10 Batch 2:  Loss:     0.0004, validation Accuracy: 0.715600\n",
      "Epoch 27, CIFAR-10 Batch 3:  Loss:     0.0074, validation Accuracy: 0.723400\n",
      "Epoch 27, CIFAR-10 Batch 4:  Loss:     0.0061, validation Accuracy: 0.717800\n",
      "Epoch 27, CIFAR-10 Batch 5:  Loss:     0.0191, validation Accuracy: 0.721200\n",
      "Epoch 28, CIFAR-10 Batch 1:  Loss:     0.0030, validation Accuracy: 0.727200\n",
      "Epoch 28, CIFAR-10 Batch 2:  Loss:     0.0105, validation Accuracy: 0.721600\n",
      "Epoch 28, CIFAR-10 Batch 3:  Loss:     0.0052, validation Accuracy: 0.719000\n",
      "Epoch 28, CIFAR-10 Batch 4:  Loss:     0.0150, validation Accuracy: 0.709400\n",
      "Epoch 28, CIFAR-10 Batch 5:  Loss:     0.0222, validation Accuracy: 0.703800\n",
      "Epoch 29, CIFAR-10 Batch 1:  Loss:     0.0005, validation Accuracy: 0.718400\n",
      "Epoch 29, CIFAR-10 Batch 2:  Loss:     0.0021, validation Accuracy: 0.712200\n",
      "Epoch 29, CIFAR-10 Batch 3:  Loss:     0.0117, validation Accuracy: 0.714400\n",
      "Epoch 29, CIFAR-10 Batch 4:  Loss:     0.0283, validation Accuracy: 0.714000\n",
      "Epoch 29, CIFAR-10 Batch 5:  Loss:     0.0047, validation Accuracy: 0.716200\n",
      "Epoch 30, CIFAR-10 Batch 1:  Loss:     0.0007, validation Accuracy: 0.721600\n",
      "Epoch 30, CIFAR-10 Batch 2:  Loss:     0.0016, validation Accuracy: 0.722400\n",
      "Epoch 30, CIFAR-10 Batch 3:  Loss:     0.0052, validation Accuracy: 0.718200\n",
      "Epoch 30, CIFAR-10 Batch 4:  Loss:     0.0057, validation Accuracy: 0.726000\n",
      "Epoch 30, CIFAR-10 Batch 5:  Loss:     0.0031, validation Accuracy: 0.719200\n",
      "Epoch 31, CIFAR-10 Batch 1:  Loss:     0.0535, validation Accuracy: 0.713800\n",
      "Epoch 31, CIFAR-10 Batch 2:  Loss:     0.0006, validation Accuracy: 0.719000\n",
      "Epoch 31, CIFAR-10 Batch 3:  Loss:     0.0082, validation Accuracy: 0.719200\n",
      "Epoch 31, CIFAR-10 Batch 4:  Loss:     0.0053, validation Accuracy: 0.722600\n",
      "Epoch 31, CIFAR-10 Batch 5:  Loss:     0.0095, validation Accuracy: 0.723000\n",
      "Epoch 32, CIFAR-10 Batch 1:  Loss:     0.0018, validation Accuracy: 0.719800\n",
      "Epoch 32, CIFAR-10 Batch 2:  Loss:     0.0019, validation Accuracy: 0.718600\n",
      "Epoch 32, CIFAR-10 Batch 3:  Loss:     0.0017, validation Accuracy: 0.727400\n",
      "Epoch 32, CIFAR-10 Batch 4:  Loss:     0.0084, validation Accuracy: 0.722800\n",
      "Epoch 32, CIFAR-10 Batch 5:  Loss:     0.0037, validation Accuracy: 0.713800\n"
     ]
    }
   ],
   "source": [
    "\"\"\"\n",
    "DON'T MODIFY ANYTHING IN THIS CELL\n",
    "\"\"\"\n",
    "save_model_path = './image_classification'\n",
    "\n",
    "print('Training...')\n",
    "with tf.Session() as sess:\n",
    "    # Initializing the variables\n",
    "    sess.run(tf.global_variables_initializer())\n",
    "    \n",
    "    # Training cycle\n",
    "    for epoch in range(epochs):\n",
    "        # Loop over all batches\n",
    "        n_batches = 5\n",
    "        for batch_i in range(1, n_batches + 1):\n",
    "            for batch_features, batch_labels in helper.load_preprocess_training_batch(batch_i, batch_size):\n",
    "                train_neural_network(sess, optimizer, keep_probability, batch_features, batch_labels)\n",
    "            print('Epoch {:>2}, CIFAR-10 Batch {}:  '.format(epoch + 1, batch_i), end='')\n",
    "            print_stats(sess, batch_features, batch_labels, cost, accuracy)\n",
    "            \n",
    "    # Save Model\n",
    "    saver = tf.train.Saver()\n",
    "    save_path = saver.save(sess, save_model_path)"
   ]
  },
  {
   "cell_type": "markdown",
   "metadata": {
    "deletable": true,
    "editable": true
   },
   "source": [
    "# Checkpoint\n",
    "The model has been saved to disk.\n",
    "## Test Model\n",
    "Test your model against the test dataset.  This will be your final accuracy. You should have an accuracy greater than 50%. If you don't, keep tweaking the model architecture and parameters."
   ]
  },
  {
   "cell_type": "code",
   "execution_count": 135,
   "metadata": {
    "collapsed": false,
    "deletable": true,
    "editable": true
   },
   "outputs": [
    {
     "name": "stdout",
     "output_type": "stream",
     "text": [
      "Testing Accuracy: 0.7082667731629393\n",
      "\n"
     ]
    },
    {
     "data": {
      "image/png": "[encoded data removed]",
      "text/plain": [
       "<matplotlib.figure.Figure at 0x7f03a2434f98>"
      ]
     },
     "metadata": {
      "image/png": {
       "height": 319,
       "width": 355
      }
     },
     "output_type": "display_data"
    }
   ],
   "source": [
    "\"\"\"\n",
    "DON'T MODIFY ANYTHING IN THIS CELL\n",
    "\"\"\"\n",
    "%matplotlib inline\n",
    "%config InlineBackend.figure_format = 'retina'\n",
    "\n",
    "import tensorflow as tf\n",
    "import pickle\n",
    "import helper\n",
    "import random\n",
    "\n",
    "# Set batch size if not already set\n",
    "try:\n",
    "    if batch_size:\n",
    "        pass\n",
    "except NameError:\n",
    "    batch_size = 64\n",
    "\n",
    "save_model_path = './image_classification'\n",
    "n_samples = 4\n",
    "top_n_predictions = 3\n",
    "\n",
    "def test_model():\n",
    "    \"\"\"\n",
    "    Test the saved model against the test dataset\n",
    "    \"\"\"\n",
    "\n",
    "    test_features, test_labels = pickle.load(open('preprocess_training.p', mode='rb'))\n",
    "    loaded_graph = tf.Graph()\n",
    "\n",
    "    with tf.Session(graph=loaded_graph) as sess:\n",
    "        # Load model\n",
    "        loader = tf.train.import_meta_graph(save_model_path + '.meta')\n",
    "        loader.restore(sess, save_model_path)\n",
    "\n",
    "        # Get Tensors from loaded model\n",
    "        loaded_x = loaded_graph.get_tensor_by_name('x:0')\n",
    "        loaded_y = loaded_graph.get_tensor_by_name('y:0')\n",
    "        loaded_keep_prob = loaded_graph.get_tensor_by_name('keep_prob:0')\n",
    "        loaded_logits = loaded_graph.get_tensor_by_name('logits:0')\n",
    "        loaded_acc = loaded_graph.get_tensor_by_name('accuracy:0')\n",
    "        \n",
    "        # Get accuracy in batches for memory limitations\n",
    "        test_batch_acc_total = 0\n",
    "        test_batch_count = 0\n",
    "        \n",
    "        for train_feature_batch, train_label_batch in helper.batch_features_labels(test_features, test_labels, batch_size):\n",
    "            test_batch_acc_total += sess.run(\n",
    "                loaded_acc,\n",
    "                feed_dict={loaded_x: train_feature_batch, loaded_y: train_label_batch, loaded_keep_prob: 1.0})\n",
    "            test_batch_count += 1\n",
    "\n",
    "        print('Testing Accuracy: {}\\n'.format(test_batch_acc_total/test_batch_count))\n",
    "\n",
    "        # Print Random Samples\n",
    "        random_test_features, random_test_labels = tuple(zip(*random.sample(list(zip(test_features, test_labels)), n_samples)))\n",
    "        random_test_predictions = sess.run(\n",
    "            tf.nn.top_k(tf.nn.softmax(loaded_logits), top_n_predictions),\n",
    "            feed_dict={loaded_x: random_test_features, loaded_y: random_test_labels, loaded_keep_prob: 1.0})\n",
    "        helper.display_image_predictions(random_test_features, random_test_labels, random_test_predictions)\n",
    "\n",
    "\n",
    "test_model()"
   ]
  },
  {
   "cell_type": "markdown",
   "metadata": {},
   "source": [
    "### Note:  \n",
    "I really find this [discussion](https://discussions.udacity.com/t/tips-for-image-classification-project/238506) particularly useful to complete this project."
   ]
  },
  {
   "cell_type": "markdown",
   "metadata": {
    "deletable": true,
    "editable": true
   },
   "source": [
    "## Why 50-70% Accuracy?\n",
    "You might be wondering why you can't get an accuracy any higher. First things first, 50% isn't bad for a simple CNN.  Pure guessing would get you 10% accuracy. However, you might notice people are getting scores [well above 70%](http://rodrigob.github.io/are_we_there_yet/build/classification_datasets_results.html#43494641522d3130).  That's because we haven't taught you all there is to know about neural networks. We still need to cover a few more techniques.\n",
    "## Submitting This Project\n",
    "When submitting this project, make sure to run all the cells before saving the notebook.  Save the notebook file as \"dlnd_image_classification.ipynb\" and save it as a HTML file under \"File\" -> \"Download as\".  Include the \"helper.py\" and \"problem_unittests.py\" files in your submission."
   ]
  }
 ],
 "metadata": {
  "kernelspec": {
   "display_name": "Python 3",
   "language": "python",
   "name": "python3"
  },
  "language_info": {
   "codemirror_mode": {
    "name": "ipython",
    "version": 3
   },
   "file_extension": ".py",
   "mimetype": "text/x-python",
   "name": "python",
   "nbconvert_exporter": "python",
   "pygments_lexer": "ipython3",
   "version": "3.6.0"
  }
 },
 "nbformat": 4,
 "nbformat_minor": 0
}
